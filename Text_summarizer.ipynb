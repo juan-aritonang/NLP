{
  "nbformat": 4,
  "nbformat_minor": 0,
  "metadata": {
    "colab": {
      "provenance": [],
      "collapsed_sections": [],
      "authorship_tag": "ABX9TyPQzaDMDYxwto75E6n01Xhv",
      "include_colab_link": true
    },
    "kernelspec": {
      "name": "python3",
      "display_name": "Python 3"
    },
    "language_info": {
      "name": "python"
    }
  },
  "cells": [
    {
      "cell_type": "markdown",
      "metadata": {
        "id": "view-in-github",
        "colab_type": "text"
      },
      "source": [
        "<a href=\"https://colab.research.google.com/github/juan-aritonang/NLP/blob/main/Text_summarizer.ipynb\" target=\"_parent\"><img src=\"https://colab.research.google.com/assets/colab-badge.svg\" alt=\"Open In Colab\"/></a>"
      ]
    },
    {
      "cell_type": "code",
      "execution_count": 8,
      "metadata": {
        "colab": {
          "base_uri": "https://localhost:8080/"
        },
        "id": "PCj8WmkZOOOz",
        "outputId": "b31a0005-41bf-40a2-ddc5-10479791d119"
      },
      "outputs": [
        {
          "output_type": "stream",
          "name": "stdout",
          "text": [
            "Looking in indexes: https://pypi.org/simple, https://us-python.pkg.dev/colab-wheels/public/simple/\n",
            "Requirement already satisfied: nltk in /usr/local/lib/python3.7/dist-packages (3.7)\n",
            "Requirement already satisfied: tqdm in /usr/local/lib/python3.7/dist-packages (from nltk) (4.64.1)\n",
            "Requirement already satisfied: regex>=2021.8.3 in /usr/local/lib/python3.7/dist-packages (from nltk) (2022.6.2)\n",
            "Requirement already satisfied: click in /usr/local/lib/python3.7/dist-packages (from nltk) (7.1.2)\n",
            "Requirement already satisfied: joblib in /usr/local/lib/python3.7/dist-packages (from nltk) (1.2.0)\n"
          ]
        },
        {
          "output_type": "stream",
          "name": "stderr",
          "text": [
            "[nltk_data] Downloading package stopwords to /root/nltk_data...\n",
            "[nltk_data]   Package stopwords is already up-to-date!\n",
            "[nltk_data] Downloading package punkt to /root/nltk_data...\n",
            "[nltk_data]   Unzipping tokenizers/punkt.zip.\n"
          ]
        },
        {
          "output_type": "execute_result",
          "data": {
            "text/plain": [
              "True"
            ]
          },
          "metadata": {},
          "execution_count": 8
        }
      ],
      "source": [
        "!pip install nltk\n",
        "import nltk\n",
        "nltk.download('stopwords')\n",
        "nltk.download('punkt')"
      ]
    },
    {
      "cell_type": "code",
      "source": [
        "teks=\"\"\"\n",
        "Komisi Pemberantasan Korupsi (KPK) memastikan akan melantik 1.271 pegawai KPK menjadi aparatur sipil negara (ASN). “Pelantikan akan diikuti oleh 1.271 pegawai secara daring dan luring di Aula Gedung Juang KPK,” kata Pelaksana Tugas Juru Bicara KPK Ali Fikri, Senin (31/5/2021) malam. Ali menyebutkan, pelantikan dilaksanakan pada pukul 13.00 WIB. Namun, untuk memastikan penerapan protokol kesehatan, yang hadir secara langsung hanya 53 perwakilan pegawai dan pejabat struktural. “Selebihnya pegawai mengikuti pelantikan melalui aplikasi daring dan wajib melakukan absensi serta menunjukkan bukti kehadiran,” ucap Ali. Adapun rangkaian pelantikan terdiri dari Pelantikan dan Pengambilan Sumpah/Janji PNS dan Sumpah/Janji Jabatan Pimpinan Tinggi Madya; Jabatan Pimpinan Tinggi Pratama dan Administrator. Terima kasih telah membaca Kompas.com. Dapatkan informasi, inspirasi dan insight di email kamu. “KPK akan menyiarkan seluruh rangkaian kegiatan ini secara langsung melalui kanal YouTube KPK,” ucap dia. Sebelumnya, Kepala Badan Kepegawaian Negara (BKN) Bima Haria Wibisana juga telah menerima undangan pelantikan pegawai KPK menjadi ASN besok. “Saya dapat undangan pelantikan besok jam 14.00,” kata Bima kepada Kompas.com, Senin (31/5/2021). Sebelumnya, Wakil Ketua KPK Nurul Ghufron menyatakan bahwa pimpinan KPK akan mengadakan rapat perihal adanya surat mengenai usulan permintaan penundaan pelantikan pegawai KPK pada hari ini. Adapun surat itu dikirim oleh pegawai KPK yang lolos tes wawasan kebangsaan dan menilai hasil TWK masih bermasalah. \"Rencananya akan kami bahas Senin, hasilnya kami kabarkan selanjutnya,\" ucap Ghufron dalam keterangan tertulis, Minggu (30/5/2021). Ghufron menilai, pimpinan KPK menghargai sikap para pegawai yang bersolidaritas dengan 75 pegawai lain yang tak lolos TWK. Menurut dia, solidaritas pegawai KPK yang meminta penundaan tersebut merupakan pengamalan dari sila Pancasila tentang Persatuan Indonesia. \n",
        "\"Solidaritas dari segenap pegawai KPK yang meminta agar pelantikan ditunda sangat kami hargai,\" kata Ghufron. Ia pun mengungkapkan alasan menjadikan tanggal 1 Juni 2021 sebagai hari pelantikan pegawai KPK menjadi ASN. Ghufron menyebut, pimpinan KPK memilih pelantikan yang bertepatan pada hari lahir Pancasila itu sebagai simbol bahwa pegawai KPK adalah seorang Pancasilais. \"Untuk memperingati dan menghormati Hari Lahir Pancasila, sehingga secara simbolik untuk menyatakan bahwa pegawai KPK Pancasilais,\" kata dia. Hampir 700 pegawai Komisi Pemberantasan Korupsi (KPK) yang berasal dari berbagai direktorat mengirimkan surat terbuka kepada pimpinan KPK. Mereka meminta agar pelantikan sebagai ASN ditunda, di tengah polemik 75 pegawai yang tidak lolos TWK. Ada dugaan bahwa 75 pegawai itu tak lolos TWK sebagai upaya penyingkiran dan pelemahan terhadap KPK. Dari 75 pegawai yang dinyatakan tidak lolos TWK tersebut, 51 di antaranya diberhentikan dan 24 pegawai akan dibina kembali. Tidak hanya itu, materi TWK juga dianggap bermasalah, dinilai melecehkan perempuan hingga bertentangan dengan hak asasi manusia.\n",
        "\"\"\"\n",
        "print(teks)"
      ],
      "metadata": {
        "colab": {
          "base_uri": "https://localhost:8080/"
        },
        "id": "BhNtIjMHPUHE",
        "outputId": "304a97fe-a346-497d-f2d0-efff3f603b65"
      },
      "execution_count": 19,
      "outputs": [
        {
          "output_type": "stream",
          "name": "stdout",
          "text": [
            "\n",
            "Komisi Pemberantasan Korupsi (KPK) memastikan akan melantik 1.271 pegawai KPK menjadi aparatur sipil negara (ASN). “Pelantikan akan diikuti oleh 1.271 pegawai secara daring dan luring di Aula Gedung Juang KPK,” kata Pelaksana Tugas Juru Bicara KPK Ali Fikri, Senin (31/5/2021) malam. Ali menyebutkan, pelantikan dilaksanakan pada pukul 13.00 WIB. Namun, untuk memastikan penerapan protokol kesehatan, yang hadir secara langsung hanya 53 perwakilan pegawai dan pejabat struktural. “Selebihnya pegawai mengikuti pelantikan melalui aplikasi daring dan wajib melakukan absensi serta menunjukkan bukti kehadiran,” ucap Ali. Adapun rangkaian pelantikan terdiri dari Pelantikan dan Pengambilan Sumpah/Janji PNS dan Sumpah/Janji Jabatan Pimpinan Tinggi Madya; Jabatan Pimpinan Tinggi Pratama dan Administrator. Terima kasih telah membaca Kompas.com. Dapatkan informasi, inspirasi dan insight di email kamu. “KPK akan menyiarkan seluruh rangkaian kegiatan ini secara langsung melalui kanal YouTube KPK,” ucap dia. Sebelumnya, Kepala Badan Kepegawaian Negara (BKN) Bima Haria Wibisana juga telah menerima undangan pelantikan pegawai KPK menjadi ASN besok. “Saya dapat undangan pelantikan besok jam 14.00,” kata Bima kepada Kompas.com, Senin (31/5/2021). Sebelumnya, Wakil Ketua KPK Nurul Ghufron menyatakan bahwa pimpinan KPK akan mengadakan rapat perihal adanya surat mengenai usulan permintaan penundaan pelantikan pegawai KPK pada hari ini. Adapun surat itu dikirim oleh pegawai KPK yang lolos tes wawasan kebangsaan dan menilai hasil TWK masih bermasalah. \"Rencananya akan kami bahas Senin, hasilnya kami kabarkan selanjutnya,\" ucap Ghufron dalam keterangan tertulis, Minggu (30/5/2021). Ghufron menilai, pimpinan KPK menghargai sikap para pegawai yang bersolidaritas dengan 75 pegawai lain yang tak lolos TWK. Menurut dia, solidaritas pegawai KPK yang meminta penundaan tersebut merupakan pengamalan dari sila Pancasila tentang Persatuan Indonesia. \n",
            "\"Solidaritas dari segenap pegawai KPK yang meminta agar pelantikan ditunda sangat kami hargai,\" kata Ghufron. Ia pun mengungkapkan alasan menjadikan tanggal 1 Juni 2021 sebagai hari pelantikan pegawai KPK menjadi ASN. Ghufron menyebut, pimpinan KPK memilih pelantikan yang bertepatan pada hari lahir Pancasila itu sebagai simbol bahwa pegawai KPK adalah seorang Pancasilais. \"Untuk memperingati dan menghormati Hari Lahir Pancasila, sehingga secara simbolik untuk menyatakan bahwa pegawai KPK Pancasilais,\" kata dia. Hampir 700 pegawai Komisi Pemberantasan Korupsi (KPK) yang berasal dari berbagai direktorat mengirimkan surat terbuka kepada pimpinan KPK. Mereka meminta agar pelantikan sebagai ASN ditunda, di tengah polemik 75 pegawai yang tidak lolos TWK. Ada dugaan bahwa 75 pegawai itu tak lolos TWK sebagai upaya penyingkiran dan pelemahan terhadap KPK. Dari 75 pegawai yang dinyatakan tidak lolos TWK tersebut, 51 di antaranya diberhentikan dan 24 pegawai akan dibina kembali. Tidak hanya itu, materi TWK juga dianggap bermasalah, dinilai melecehkan perempuan hingga bertentangan dengan hak asasi manusia.\n",
            "\n"
          ]
        }
      ]
    },
    {
      "cell_type": "code",
      "source": [
        "teks2='''\n",
        "Presiden Dewan Eropa Charles Michel mengatakan pertemuan Sherpa menjelang Konferensi Tingkat Tinggi (KTT) G20 menunjukkan hasil positif. Pembahasan mengenai isu-isu strategis G20 di level menteri dan deputi akan dibawa dalam pertemuan para kepala negara dalam KTT pagi ini, Selasa, 15 November 2022. \n",
        "\n",
        "\"Soal komunike, kesepakatan di level Sherpa pada kemarin sore menghasilkan sesuatu yang positif,\" ujar Michel di Nusa Dua, Bali, Selasa pagi, 15 November. \n",
        "\n",
        "Sherpa track Presidensi G20 Indonesia mencakup 12 working groups dan sepuluh engagement groups. Sebelumnya, sinyal gagalnya kesepakatan atau leaders communique menguat baik di level Sherpa maupun KTT G20. \n",
        "\n",
        "Menteri Koordinator Bidang Kemaritiman dan Investasi Luhut Binsar Pandjaitan mengatakan KTT G20 berjalan saat eskalasi perang Rusia dan Ukraina menguat. KTT juga berlangsung lan saat dunia menghadapi krisis. \n",
        "\n",
        "Menanggapi itu, Michel mengaku Presidensi G20 Indonesia kali diliputi tantangan yang tidak mudah. Indonesia harus mendorong KTT mencapai kesepakatan saat tensi geopolitik memanas dan terbagi dalam blok-blok. \"Tentu saja tidak mudah untuk membawa KTT ini mencapai sebuah kompromi,\" katanya. Pagi ini KTT G20 akan berlangsung di Apurva, Nusa Dua, Bali. Sebagai Presidensi G20, Indonesia akan mendorong terjadinya kesepakatan untuk isu-isu strategis yang meliputi transisi energi, transformasi digital, dan arsitektur kesehatan. \n",
        "\n",
        "Sejumlah pimpinan negara anggota G20 dan delegasi-delegasinya. Presiden Joko Widodo alias Jokowi menyambut para petinggi negara. Pada KTT kali ini, 17 kepala negara akan hadir secara langsung di Bali. '''"
      ],
      "metadata": {
        "id": "kwTlSSb5SaZU"
      },
      "execution_count": 20,
      "outputs": []
    },
    {
      "cell_type": "code",
      "source": [
        "from nltk.corpus import stopwords\n",
        "from nltk.tokenize import word_tokenize, sent_tokenize\n",
        "\n",
        "stopwords = set (stopwords.words(\"indonesian\"))\n",
        "words = word_tokenize(teks2)\n",
        "\n",
        "freqTable = dict()\n",
        "for word in words:\n",
        "    word = word.lower()\n",
        "    if word in stopwords:\n",
        "        continue\n",
        "    if word in freqTable:\n",
        "        freqTable[word] += 1\n",
        "    else:\n",
        "        freqTable[word] = 1\n",
        "\n",
        "# Creatinng a dictianary to keep the score\n",
        "sentences = sent_tokenize(teks2)\n",
        "sentenceValue = dict()\n",
        "for sentence in sentences:\n",
        "    for word, freq in freqTable.items():\n",
        "        if word in sentence.lower():\n",
        "            if sentence in sentenceValue:\n",
        "                sentenceValue[sentence] += freq\n",
        "            else:\n",
        "                sentenceValue[sentence] = freq\n",
        "\n",
        "sumValues = 0\n",
        "for sentence in sentenceValue:\n",
        "    sumValues += sentenceValue[sentence]\n",
        "\n",
        "average = int(sumValues / len(sentenceValue))\n",
        "summary = ''\n",
        "for sentence in sentences:\n",
        "    if (sentence in sentenceValue) and (sentenceValue[sentence] > (average)):\n",
        "        summary += \" \" + sentence\n",
        "        \n",
        "print(summary)"
      ],
      "metadata": {
        "colab": {
          "base_uri": "https://localhost:8080/"
        },
        "id": "tgwitE2TOxlF",
        "outputId": "c9fe3aa1-7e54-49c0-eceb-63261f45226b"
      },
      "execution_count": 22,
      "outputs": [
        {
          "output_type": "stream",
          "name": "stdout",
          "text": [
            " \n",
            "Presiden Dewan Eropa Charles Michel mengatakan pertemuan Sherpa menjelang Konferensi Tingkat Tinggi (KTT) G20 menunjukkan hasil positif. Pembahasan mengenai isu-isu strategis G20 di level menteri dan deputi akan dibawa dalam pertemuan para kepala negara dalam KTT pagi ini, Selasa, 15 November 2022. \"Soal komunike, kesepakatan di level Sherpa pada kemarin sore menghasilkan sesuatu yang positif,\" ujar Michel di Nusa Dua, Bali, Selasa pagi, 15 November. Sebelumnya, sinyal gagalnya kesepakatan atau leaders communique menguat baik di level Sherpa maupun KTT G20. Menanggapi itu, Michel mengaku Presidensi G20 Indonesia kali diliputi tantangan yang tidak mudah. Pagi ini KTT G20 akan berlangsung di Apurva, Nusa Dua, Bali. Sebagai Presidensi G20, Indonesia akan mendorong terjadinya kesepakatan untuk isu-isu strategis yang meliputi transisi energi, transformasi digital, dan arsitektur kesehatan. Pada KTT kali ini, 17 kepala negara akan hadir secara langsung di Bali.\n"
          ]
        }
      ]
    },
    {
      "cell_type": "code",
      "source": [
        "print(len(teks2))\n",
        "print(len(summary))"
      ],
      "metadata": {
        "colab": {
          "base_uri": "https://localhost:8080/"
        },
        "id": "km1VRcrIQOIV",
        "outputId": "8b1ed7f1-4426-4c5a-ac6e-a199b4a3acb6"
      },
      "execution_count": 23,
      "outputs": [
        {
          "output_type": "stream",
          "name": "stdout",
          "text": [
            "1606\n",
            "971\n"
          ]
        }
      ]
    }
  ]
}